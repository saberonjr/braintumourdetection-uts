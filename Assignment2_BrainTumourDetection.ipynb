{
  "cells": [
    {
      "cell_type": "markdown",
      "metadata": {
        "id": "view-in-github",
        "colab_type": "text"
      },
      "source": [
        "<a href=\"https://colab.research.google.com/github/uts-strykers/braintumourdetection/blob/STRYK-8-Model-Testing/Assignment2_BrainTumourDetection.ipynb\" target=\"_parent\"><img src=\"https://colab.research.google.com/assets/colab-badge.svg\" alt=\"Open In Colab\"/></a>"
      ]
    },
    {
      "cell_type": "markdown",
      "metadata": {
        "id": "shUZaEI9p7be"
      },
      "source": [
        "# STRYKERS TEAM: Brain Tumour Detection\n",
        "Members:\n",
        "Sotero Jr, Leon, Norah"
      ]
    },
    {
      "cell_type": "markdown",
      "metadata": {
        "id": "zw94RbqNdkdO"
      },
      "source": [
        "##1. Project Overview: Brain Tumour Detection\n",
        "Objective: Briefly describe the problem you're trying to solve.\n",
        "Data Source: Mention where the data comes from and its main features.\n",
        "Expected Outcome: Define what success looks like for this project.\n"
      ]
    },
    {
      "cell_type": "code",
      "execution_count": null,
      "metadata": {
        "colab": {
          "base_uri": "https://localhost:8080/"
        },
        "id": "MggbeFh0dSqh",
        "outputId": "00765864-2427-4ac9-c543-fe598781895b"
      },
      "outputs": [
        {
          "output_type": "stream",
          "name": "stdout",
          "text": [
            "Mounted at /content/drive\n"
          ]
        }
      ],
      "source": [
        "from google.colab import drive\n",
        "drive.mount('/content/drive')"
      ]
    },
    {
      "cell_type": "code",
      "source": [
        "%cd /content/drive/MyDrive/42174/braintumourdetection"
      ],
      "metadata": {
        "colab": {
          "base_uri": "https://localhost:8080/"
        },
        "id": "vm6kPLMKqNms",
        "outputId": "d96940d2-ad01-4682-e09b-e551bc362cad"
      },
      "execution_count": null,
      "outputs": [
        {
          "output_type": "stream",
          "name": "stdout",
          "text": [
            "/content/drive/MyDrive/42174/braintumourdetection\n"
          ]
        }
      ]
    },
    {
      "cell_type": "code",
      "source": [
        "!git status"
      ],
      "metadata": {
        "colab": {
          "base_uri": "https://localhost:8080/"
        },
        "id": "GJfV45mRqPms",
        "outputId": "477739c7-2a80-47f7-cddb-4bd4e55ccaef"
      },
      "execution_count": null,
      "outputs": [
        {
          "output_type": "stream",
          "name": "stdout",
          "text": [
            "Refresh index: 100% (7/7), done.\n",
            "On branch STRYK-8-Model-Testing\n",
            "Your branch is up to date with 'origin/STRYK-8-Model-Testing'.\n",
            "\n",
            "Changes not staged for commit:\n",
            "  (use \"git add <file>...\" to update what will be committed)\n",
            "  (use \"git restore <file>...\" to discard changes in working directory)\n",
            "\t\u001b[31mmodified:   Assignment2-BrainTumourDetection.ipynb\u001b[m\n",
            "\n",
            "no changes added to commit (use \"git add\" and/or \"git commit -a\")\n"
          ]
        }
      ]
    },
    {
      "cell_type": "markdown",
      "metadata": {
        "id": "y1LHJNfndtoN"
      },
      "source": [
        "#2. Import Libraries\n",
        "Import necessary Python libraries (e.g., NumPy, pandas, Matplotlib, scikit-learn)."
      ]
    },
    {
      "cell_type": "code",
      "execution_count": null,
      "metadata": {
        "id": "FBuxKXavd1Iv"
      },
      "outputs": [],
      "source": [
        "import matplotlib as plt\n",
        "import pandas as pd\n",
        "import numpy as np"
      ]
    },
    {
      "cell_type": "code",
      "source": [],
      "metadata": {
        "id": "LGlWx8XPrFDY"
      },
      "execution_count": null,
      "outputs": []
    },
    {
      "cell_type": "markdown",
      "metadata": {
        "id": "gDBC98kod1Rt"
      },
      "source": [
        "#3. Data Collection\n",
        "Loading Data: Code to load your dataset from a file or web API.\n",
        "Initial Data Exploration: Display the first few rows of the dataset, list the features and their types."
      ]
    },
    {
      "cell_type": "code",
      "execution_count": null,
      "metadata": {
        "id": "nEw4Jg0Td2U9"
      },
      "outputs": [],
      "source": []
    },
    {
      "cell_type": "markdown",
      "metadata": {
        "id": "F74eHiBzd2eD"
      },
      "source": [
        "#4. Data Preprocessing\n",
        "Cleaning: Handle missing values, remove duplicates, and deal with outliers.\n",
        "Feature Engineering: Create new features from the existing data if necessary.\n",
        "Feature Selection: Select relevant features for the model.\n",
        "Data Transformation: Normalize or standardize data, encode categorical variables."
      ]
    },
    {
      "cell_type": "code",
      "execution_count": null,
      "metadata": {
        "id": "ASjr4zbEd5oL"
      },
      "outputs": [],
      "source": []
    },
    {
      "cell_type": "markdown",
      "metadata": {
        "id": "c3Ti2-Jod5wX"
      },
      "source": [
        "#5. Exploratory Data Analysis (EDA)\n",
        "Statistical Summary: Describe the data statistically.\n",
        "Visualization: Use plots (histograms, box plots, scatter plots) to visualize data and relationships."
      ]
    },
    {
      "cell_type": "code",
      "execution_count": null,
      "metadata": {
        "id": "qyG2vDf4d80G"
      },
      "outputs": [],
      "source": []
    },
    {
      "cell_type": "markdown",
      "metadata": {
        "id": "024YbWB_d89L"
      },
      "source": [
        "#6. Data Splitting\n",
        "Split the data into training, validation, and test sets."
      ]
    },
    {
      "cell_type": "markdown",
      "metadata": {
        "id": "kbgJ7uvdeFtZ"
      },
      "source": [
        "\n",
        "#7. Model Selection\n",
        "Choose appropriate machine learning models for the problem.\n",
        "Briefly describe each model's choice and its assumptions.\n"
      ]
    },
    {
      "cell_type": "code",
      "execution_count": null,
      "metadata": {
        "id": "wIbRyJAoeJ4d"
      },
      "outputs": [],
      "source": []
    },
    {
      "cell_type": "markdown",
      "metadata": {
        "id": "7YOnUfTreKHN"
      },
      "source": [
        "#8. Model Training\n",
        "Training Models: Train models on the training dataset.\n",
        "Hyperparameter Tuning: Use techniques like grid search or random search to find the best parameters.\n"
      ]
    },
    {
      "cell_type": "code",
      "execution_count": null,
      "metadata": {
        "id": "zLqqPqFieMma"
      },
      "outputs": [],
      "source": []
    },
    {
      "cell_type": "markdown",
      "source": [
        "#9. Model Testing"
      ],
      "metadata": {
        "id": "7mpq1WS5q09S"
      }
    },
    {
      "cell_type": "code",
      "source": [
        "# filter the predictions with the threshold of 0.4\n",
        "pred_mask = (pred['scores'] >= .4).cpu()\n",
        "# filter more by using non-maximum suppression with .6 as the threshold\n",
        "nms_idx = nms(pred['boxes'], pred['scores'], .6).cpu()\n",
        "nms_mask = torch.zeros_like(pred_mask)\n",
        "nms_mask[nms_idx] = 1\n",
        "\n",
        "mask = pred_mask * nms_mask # apply \"AND\" gate by multiplying the two\n",
        "\n",
        "indices = torch.arange(0, mask.size(0), 1)[mask]\n",
        "\n",
        "final_preds = {\n",
        "    \"boxes\": pred['boxes'][indices, :],\n",
        "    \"labels\": pred['labels'][indices],\n",
        "    \"scores\": pred['scores'][indices]\n",
        "}\n",
        "\n",
        "\n",
        "image = (255.0 * (image - image.min()) / (image.max() - image.min())).to(torch.uint8)\n",
        "pred_labels = [f\"label {label}: {score:.3f}\" for label, score in zip(final_preds[\"labels\"], final_preds[\"scores\"])]\n",
        "pred_boxes = final_preds[\"boxes\"].long()\n",
        "colors = [\"white\"]*len(pred_labels)\n",
        "\n",
        "# resize the image and bounding boxes\n",
        "pred_boxes = F.resize_bounding_boxes(pred_boxes, canvas_size=F.get_size(image), size=(132*5, 139*5))\n",
        "image = F.resize(image, (132*5, 139*5), antialias=True)\n",
        "\n",
        "print(image.shape, pred_boxes[1])\n",
        "\n",
        "image_with_boxes = draw_bounding_boxes(image=image, boxes=pred_boxes[0], labels=pred_labels, colors=colors)\n",
        "\n",
        "Image.fromarray(image_with_boxes.permute(1,2,0).numpy())"
      ],
      "metadata": {
        "id": "cJTdjnSqq5cP"
      },
      "execution_count": null,
      "outputs": []
    },
    {
      "cell_type": "markdown",
      "metadata": {
        "id": "AE2GYaMjeMu4"
      },
      "source": [
        "#9. Model Evaluation\n",
        "Validation Performance: Evaluate model performance on the validation set using appropriate metrics (e.g., accuracy, F1 score, ROC AUC).\n",
        "Cross-Validation: If necessary, perform cross-validation and discuss the results.\n"
      ]
    },
    {
      "cell_type": "markdown",
      "metadata": {
        "id": "4eU4_JoweQrp"
      },
      "source": [
        "#10. Model Interpretation\n",
        "Discuss model predictions and what they mean in the context of the problem.\n",
        "Use interpretability tools or techniques if applicable (e.g., SHAP values).\n"
      ]
    },
    {
      "cell_type": "code",
      "execution_count": null,
      "metadata": {
        "id": "FHq6ggrOeTm8"
      },
      "outputs": [],
      "source": []
    },
    {
      "cell_type": "markdown",
      "metadata": {
        "id": "5MkZB5NIeTwr"
      },
      "source": [
        "#11. Model Deployment (Optional)\n",
        "Discuss how the model could be deployed in a real-world application.\n",
        "Mention any potential challenges and how they could be addressed.\n"
      ]
    },
    {
      "cell_type": "code",
      "execution_count": null,
      "metadata": {
        "id": "P5HKwL6leWC5"
      },
      "outputs": [],
      "source": []
    },
    {
      "cell_type": "markdown",
      "metadata": {
        "id": "iSR15_preWMd"
      },
      "source": [
        "#12. Conclusions\n",
        "Summarize the key findings.\n",
        "Discuss any limitations of the current approach and suggest improvements.\n"
      ]
    },
    {
      "cell_type": "code",
      "execution_count": null,
      "metadata": {
        "id": "KzGtx86bedbw"
      },
      "outputs": [],
      "source": []
    },
    {
      "cell_type": "markdown",
      "metadata": {
        "id": "iB78dzTUedkc"
      },
      "source": [
        "#13. References\n",
        "Cite any references or resources used throughout the project.\n"
      ]
    },
    {
      "cell_type": "code",
      "execution_count": null,
      "metadata": {
        "id": "-lgEdNr2efqx"
      },
      "outputs": [],
      "source": []
    },
    {
      "cell_type": "markdown",
      "metadata": {
        "id": "susrjfT4efz4"
      },
      "source": [
        "#14. Appendix\n",
        "Include any additional code or analysis that is supplementary to the main project.\n",
        "This outline serves as a general guide for structuring your machine learning project in a Jupyter Notebook. Depending on the specifics of your project, some sections may need to be modified, expanded, or omitted."
      ]
    },
    {
      "cell_type": "code",
      "source": [
        "!git status"
      ],
      "metadata": {
        "colab": {
          "base_uri": "https://localhost:8080/"
        },
        "id": "QxL61Wokq-HN",
        "outputId": "6dec0421-2cf3-4844-89f0-8352f2327b77"
      },
      "execution_count": null,
      "outputs": [
        {
          "output_type": "stream",
          "name": "stdout",
          "text": [
            "On branch STRYK-8-Model-Testing\n",
            "Your branch is up to date with 'origin/STRYK-8-Model-Testing'.\n",
            "\n",
            "Changes not staged for commit:\n",
            "  (use \"git add <file>...\" to update what will be committed)\n",
            "  (use \"git restore <file>...\" to discard changes in working directory)\n",
            "\t\u001b[31mmodified:   Assignment2-BrainTumourDetection.ipynb\u001b[m\n",
            "\n",
            "no changes added to commit (use \"git add\" and/or \"git commit -a\")\n"
          ]
        }
      ]
    },
    {
      "cell_type": "code",
      "source": [
        "!git add Assignment2-BrainTumourDetection.ipynb"
      ],
      "metadata": {
        "id": "bGkIaOfXrSZh"
      },
      "execution_count": null,
      "outputs": []
    },
    {
      "cell_type": "code",
      "source": [
        "!git branch"
      ],
      "metadata": {
        "colab": {
          "base_uri": "https://localhost:8080/"
        },
        "id": "0ScTwUdbshEo",
        "outputId": "b1fd980c-24cc-4b9f-85ec-d28fce65bf13"
      },
      "execution_count": null,
      "outputs": [
        {
          "output_type": "stream",
          "name": "stdout",
          "text": [
            "* \u001b[32mSTRYK-8-Model-Testing\u001b[m\n",
            "  main\u001b[m\n"
          ]
        }
      ]
    },
    {
      "cell_type": "code",
      "source": [
        "!git config --global user.email \"sotero.j.saberon@student.uts.edu.au\"\n",
        "!git config --global user.name \"saberonjr\""
      ],
      "metadata": {
        "id": "Vx8hmoWOrnrE"
      },
      "execution_count": null,
      "outputs": []
    },
    {
      "cell_type": "code",
      "source": [
        "!git commit -m \"STRYK-8 Added Model Testing\""
      ],
      "metadata": {
        "colab": {
          "base_uri": "https://localhost:8080/"
        },
        "id": "c3aq2XybrYyd",
        "outputId": "72d64a60-1cde-4f39-b37a-4d79f22904ee"
      },
      "execution_count": null,
      "outputs": [
        {
          "output_type": "stream",
          "name": "stdout",
          "text": [
            "[STRYK-8-Model-Testing b29d123e] STRYK-8 Added Model Testing\n",
            " 1 file changed, 1 insertion(+), 298 deletions(-)\n",
            " rewrite Assignment2-BrainTumourDetection.ipynb (99%)\n"
          ]
        }
      ]
    },
    {
      "cell_type": "code",
      "source": [
        "!ls /root/.ssh/id_rsa.pub"
      ],
      "metadata": {
        "colab": {
          "base_uri": "https://localhost:8080/"
        },
        "id": "ts0Nb9ILs91s",
        "outputId": "c5972ea4-c54a-40c8-97bb-e4024aeba35b"
      },
      "execution_count": null,
      "outputs": [
        {
          "output_type": "stream",
          "name": "stdout",
          "text": [
            "ls: cannot access '/root/.ssh/id_rsa.pub': No such file or directory\n"
          ]
        }
      ]
    },
    {
      "cell_type": "code",
      "source": [
        "!ssh -T git@github.com"
      ],
      "metadata": {
        "colab": {
          "base_uri": "https://localhost:8080/"
        },
        "id": "GfvHf5UKsrI3",
        "outputId": "f8cb5dd2-1c2f-4eb3-d4b0-b49d056c0b86"
      },
      "execution_count": null,
      "outputs": [
        {
          "output_type": "stream",
          "name": "stdout",
          "text": [
            "Host key verification failed.\r\n"
          ]
        }
      ]
    },
    {
      "cell_type": "code",
      "source": [
        "!git push -u origin STRYK-8-Model-Testing"
      ],
      "metadata": {
        "colab": {
          "base_uri": "https://localhost:8080/"
        },
        "id": "7QmO0MAZr1lg",
        "outputId": "c60d8e83-0dcb-47c7-c8cd-7014f628ba98"
      },
      "execution_count": null,
      "outputs": [
        {
          "output_type": "stream",
          "name": "stdout",
          "text": [
            "Host key verification failed.\r\n",
            "fatal: Could not read from remote repository.\n",
            "\n",
            "Please make sure you have the correct access rights\n",
            "and the repository exists.\n"
          ]
        }
      ]
    }
  ],
  "metadata": {
    "colab": {
      "provenance": [],
      "include_colab_link": true
    },
    "kernelspec": {
      "display_name": "Python 3",
      "name": "python3"
    },
    "language_info": {
      "name": "python"
    }
  },
  "nbformat": 4,
  "nbformat_minor": 0
}