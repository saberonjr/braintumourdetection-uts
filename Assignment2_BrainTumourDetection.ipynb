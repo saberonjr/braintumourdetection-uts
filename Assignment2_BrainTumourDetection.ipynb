{
  "metadata": {
    "kernelspec": {
      "display_name": "Python 3",
      "name": "python3"
    },
    "language_info": {
      "name": "python",
      "version": "3.10.12",
      "mimetype": "text/x-python",
      "codemirror_mode": {
        "name": "ipython",
        "version": 3
      },
      "pygments_lexer": "ipython3",
      "nbconvert_exporter": "python",
      "file_extension": ".py"
    },
    "kaggle": {
      "accelerator": "gpu",
      "dataSources": [
        {
          "sourceId": 7436152,
          "sourceType": "datasetVersion",
          "datasetId": 4327785
        }
      ],
      "dockerImageVersionId": 30636,
      "isInternetEnabled": true,
      "language": "python",
      "sourceType": "notebook",
      "isGpuEnabled": true
    },
    "colab": {
      "provenance": [],
      "gpuType": "T4"
    },
    "accelerator": "GPU"
  },
  "nbformat_minor": 0,
  "nbformat": 4,
  "cells": [
    {
      "cell_type": "markdown",
      "source": [
        "#Assignment 3: Brain Tumour Detection\n",
        "## Team: Strykers\n",
        "*   Sotero Jr Saberon\n",
        "*   Leon Ambrose Lusbo\n",
        "*   Norah Albaqami\n",
        "\n",
        "\n",
        "\n",
        "\n"
      ],
      "metadata": {
        "id": "fTxx9Mc1nCF_"
      }
    },
    {
      "cell_type": "markdown",
      "source": [
        "The following methods are used:\n",
        "\n",
        "* Used a pretrained <b>Mask R-CNN with ResNeXt-101-32x8d for Feature Pyramid Network</b> from detectron2 [1,2]\n",
        "* Modified the official notebook [3]\n",
        "* Used validation and test sets for testing,\n",
        "\n",
        "## Dataset information\n",
        "TumorSegmentation\n",
        "===================================================================\n",
        "\n",
        "This dataset was exported via roboflow.com on August 19, 2023\n",
        "\n",
        "The dataset includes 2146 images.\n",
        "Tumors are annotated in COCO Segmentation format.\n",
        "====================================================================\n",
        "\n",
        "The following pre-processing was applied to each image:\n",
        "* Auto-orientation of pixel data (with EXIF-orientation stripping)\n",
        "* Resize to 640x640 (Stretch)\n",
        "* No image augmentation techniques were applied.\n",
        "====================================================================\n",
        "\n",
        "Provided by Roboflow\n",
        "License: CC BY 4.0\n",
        "\n",
        "\n",
        "## References\n",
        "1. Ren, S., He, K., Girshick, R., & Sun, J. (2015). Faster R-CNN: Towards Real-Time Object Detection with Region Proposal Networks (Version 3). arXiv. https://doi.org/10.48550/ARXIV.1506.01497\n",
        "2. https://detectron2.readthedocs.io/en/latest/\n",
        "3. https://colab.research.google.com/drive/16jcaJoc6bCFAQ96jDe2HwtXj7BMD_-m5"
      ],
      "metadata": {
        "id": "Gd-kzb5vRNBt"
      }
    },
    {
      "cell_type": "markdown",
      "source": [
        "#Step 1: Mount the Google Drive"
      ],
      "metadata": {
        "id": "cfM8IU0uttao"
      }
    },
    {
      "cell_type": "code",
      "source": [
        "from google.colab import drive\n",
        "drive.mount('/content/drive')"
      ],
      "metadata": {
        "colab": {
          "base_uri": "https://localhost:8080/"
        },
        "id": "sQQ6mpRKR4VN",
        "outputId": "2d05b70a-33ca-4b9c-d022-62f79b76037b"
      },
      "execution_count": null,
      "outputs": [
        {
          "output_type": "stream",
          "name": "stdout",
          "text": [
            "Mounted at /content/drive\n"
          ]
        }
      ]
    },
    {
      "cell_type": "markdown",
      "source": [
        "#Step 2: Import Libraries"
      ],
      "metadata": {
        "id": "KJA6kJ2ytzyo"
      }
    },
    {
      "cell_type": "code",
      "source": [
        "import sys, os, distutils.core\n",
        "from IPython.display import clear_output\n",
        "\n",
        "!python -m pip install pyyaml==5.1\n",
        "!git clone 'https://github.com/facebookresearch/detectron2'\n",
        "dist = distutils.core.run_setup(\"./detectron2/setup.py\")\n",
        "!python -m pip install {' '.join([f\"'{x}'\" for x in dist.install_requires])}\n",
        "sys.path.insert(0, os.path.abspath('./detectron2'))\n",
        "clear_output()"
      ],
      "metadata": {
        "execution": {
          "iopub.status.busy": "2024-03-26T10:11:26.496216Z",
          "iopub.execute_input": "2024-03-26T10:11:26.496568Z",
          "iopub.status.idle": "2024-03-26T10:11:56.395024Z",
          "shell.execute_reply.started": "2024-03-26T10:11:26.496541Z",
          "shell.execute_reply": "2024-03-26T10:11:56.393765Z"
        },
        "trusted": true,
        "id": "nY3tXBRdRNBv"
      },
      "execution_count": null,
      "outputs": []
    },
    {
      "cell_type": "code",
      "source": [
        "# Importing dependencies\n",
        "\n",
        "import torch, detectron2\n",
        "from detectron2.utils.logger import setup_logger\n",
        "setup_logger()\n",
        "print(\"detectron2 version:\", detectron2.__version__)\n",
        "\n",
        "import numpy as np\n",
        "import os, json, cv2, random\n",
        "from IPython import display\n",
        "import PIL\n",
        "import matplotlib.pyplot as plt\n",
        "\n",
        "# importing detectron2 utilities\n",
        "from detectron2 import model_zoo\n",
        "from detectron2.engine import DefaultPredictor\n",
        "from detectron2.config import get_cfg\n",
        "from detectron2.utils.visualizer import Visualizer\n",
        "from detectron2.data import MetadataCatalog, DatasetCatalog\n",
        "\n",
        "\n",
        "SEED = 99\n",
        "THRESHOLD = 0.6"
      ],
      "metadata": {
        "execution": {
          "iopub.status.busy": "2024-03-26T10:12:34.856279Z",
          "iopub.execute_input": "2024-03-26T10:12:34.857072Z",
          "iopub.status.idle": "2024-03-26T10:12:34.863906Z",
          "shell.execute_reply.started": "2024-03-26T10:12:34.857040Z",
          "shell.execute_reply": "2024-03-26T10:12:34.862884Z"
        },
        "trusted": true,
        "colab": {
          "base_uri": "https://localhost:8080/"
        },
        "id": "rrVB-M-TRNBw",
        "outputId": "61c1c383-2814-4560-877c-143b294c3aa5"
      },
      "execution_count": null,
      "outputs": [
        {
          "output_type": "stream",
          "name": "stdout",
          "text": [
            "detectron2 version: 0.6\n"
          ]
        }
      ]
    },
    {
      "cell_type": "markdown",
      "source": [
        "# Step 3: Data Collection/Ingestion"
      ],
      "metadata": {
        "id": "GLIv2VS9RNBw"
      }
    },
    {
      "cell_type": "code",
      "source": [],
      "metadata": {
        "execution": {
          "iopub.status.busy": "2024-03-26T10:12:45.398124Z",
          "iopub.execute_input": "2024-03-26T10:12:45.398519Z",
          "iopub.status.idle": "2024-03-26T10:12:45.404445Z",
          "shell.execute_reply.started": "2024-03-26T10:12:45.398492Z",
          "shell.execute_reply": "2024-03-26T10:12:45.403373Z"
        },
        "trusted": true,
        "id": "NOG7UaisRNBx"
      },
      "execution_count": null,
      "outputs": []
    },
    {
      "cell_type": "code",
      "source": [],
      "metadata": {
        "execution": {
          "iopub.status.busy": "2024-03-26T10:12:50.442984Z",
          "iopub.execute_input": "2024-03-26T10:12:50.443367Z",
          "iopub.status.idle": "2024-03-26T10:12:50.498649Z",
          "shell.execute_reply.started": "2024-03-26T10:12:50.443335Z",
          "shell.execute_reply": "2024-03-26T10:12:50.497806Z"
        },
        "trusted": true,
        "id": "lgwISIFDRNBx"
      },
      "execution_count": null,
      "outputs": []
    },
    {
      "cell_type": "code",
      "source": [],
      "metadata": {
        "execution": {
          "iopub.status.busy": "2024-03-26T10:13:11.799214Z",
          "iopub.execute_input": "2024-03-26T10:13:11.799606Z",
          "iopub.status.idle": "2024-03-26T10:13:13.289322Z",
          "shell.execute_reply.started": "2024-03-26T10:13:11.799575Z",
          "shell.execute_reply": "2024-03-26T10:13:13.288357Z"
        },
        "trusted": true,
        "id": "6667IAJGRNBx"
      },
      "execution_count": null,
      "outputs": []
    },
    {
      "cell_type": "markdown",
      "source": [
        "# Step 4: Model Training"
      ],
      "metadata": {
        "id": "pDwd27s2RNBx"
      }
    },
    {
      "cell_type": "code",
      "source": [],
      "metadata": {
        "id": "XkFf5iUOUHLT"
      },
      "execution_count": null,
      "outputs": []
    },
    {
      "cell_type": "markdown",
      "source": [
        "## Load Config"
      ],
      "metadata": {
        "id": "HIMSoJQMhKrN"
      }
    },
    {
      "cell_type": "code",
      "source": [
        "\n",
        "\n"
      ],
      "metadata": {
        "execution": {
          "iopub.status.busy": "2024-03-26T10:13:55.009867Z",
          "iopub.execute_input": "2024-03-26T10:13:55.010751Z",
          "iopub.status.idle": "2024-03-26T10:55:16.720157Z",
          "shell.execute_reply.started": "2024-03-26T10:13:55.010719Z",
          "shell.execute_reply": "2024-03-26T10:55:16.719333Z"
        },
        "trusted": true,
        "id": "JXX2iweuRNBy"
      },
      "execution_count": null,
      "outputs": []
    },
    {
      "cell_type": "code",
      "source": [],
      "metadata": {
        "id": "OWHqSwiwhMge"
      },
      "execution_count": null,
      "outputs": []
    },
    {
      "cell_type": "code",
      "source": [],
      "metadata": {
        "id": "GzKUjJAyxY3r"
      },
      "execution_count": null,
      "outputs": []
    },
    {
      "cell_type": "markdown",
      "source": [
        "## Save the Config"
      ],
      "metadata": {
        "id": "Ey-nQUTOg4pJ"
      }
    },
    {
      "cell_type": "code",
      "source": [],
      "metadata": {
        "id": "RElBxGkfg6h5"
      },
      "execution_count": null,
      "outputs": []
    },
    {
      "cell_type": "markdown",
      "source": [
        "## Save the Model"
      ],
      "metadata": {
        "id": "D8U0lioHgz2g"
      }
    },
    {
      "cell_type": "code",
      "source": [
        "\n"
      ],
      "metadata": {
        "id": "dSOqgzUvXOpu"
      },
      "execution_count": null,
      "outputs": []
    },
    {
      "cell_type": "code",
      "source": [],
      "metadata": {
        "execution": {
          "iopub.status.busy": "2024-03-26T10:55:46.754570Z",
          "iopub.execute_input": "2024-03-26T10:55:46.755341Z",
          "iopub.status.idle": "2024-03-26T10:55:48.888879Z",
          "shell.execute_reply.started": "2024-03-26T10:55:46.755297Z",
          "shell.execute_reply": "2024-03-26T10:55:48.887986Z"
        },
        "trusted": true,
        "id": "m4bHFjueRNBy"
      },
      "execution_count": null,
      "outputs": []
    },
    {
      "cell_type": "markdown",
      "source": [
        "# Step 7: Display Training Results"
      ],
      "metadata": {
        "id": "Yhcpa9l0RNBy"
      }
    },
    {
      "cell_type": "code",
      "source": [],
      "metadata": {
        "execution": {
          "iopub.status.busy": "2024-03-26T10:56:51.947506Z",
          "iopub.execute_input": "2024-03-26T10:56:51.947878Z",
          "iopub.status.idle": "2024-03-26T10:56:51.954044Z",
          "shell.execute_reply.started": "2024-03-26T10:56:51.947849Z",
          "shell.execute_reply": "2024-03-26T10:56:51.953149Z"
        },
        "trusted": true,
        "id": "jpQ04NDjRNBy"
      },
      "execution_count": null,
      "outputs": []
    },
    {
      "cell_type": "code",
      "source": [],
      "metadata": {
        "execution": {
          "iopub.status.busy": "2024-03-26T10:56:59.808991Z",
          "iopub.execute_input": "2024-03-26T10:56:59.809827Z",
          "iopub.status.idle": "2024-03-26T10:56:59.819729Z",
          "shell.execute_reply.started": "2024-03-26T10:56:59.809797Z",
          "shell.execute_reply": "2024-03-26T10:56:59.818880Z"
        },
        "trusted": true,
        "id": "f10Z9YtyRNBy"
      },
      "execution_count": null,
      "outputs": []
    },
    {
      "cell_type": "code",
      "source": [],
      "metadata": {
        "execution": {
          "iopub.status.busy": "2024-03-26T10:57:06.241285Z",
          "iopub.execute_input": "2024-03-26T10:57:06.241658Z",
          "iopub.status.idle": "2024-03-26T10:57:07.190853Z",
          "shell.execute_reply.started": "2024-03-26T10:57:06.241629Z",
          "shell.execute_reply": "2024-03-26T10:57:07.189824Z"
        },
        "trusted": true,
        "id": "MjIqF2a-RNBy"
      },
      "execution_count": null,
      "outputs": []
    },
    {
      "cell_type": "markdown",
      "source": [
        "# Step 8: Model Evaluation"
      ],
      "metadata": {
        "id": "5vvQoikIRNBz"
      }
    },
    {
      "cell_type": "code",
      "source": [],
      "metadata": {
        "execution": {
          "iopub.status.busy": "2024-03-26T10:57:18.627726Z",
          "iopub.execute_input": "2024-03-26T10:57:18.628659Z",
          "iopub.status.idle": "2024-03-26T10:58:14.629018Z",
          "shell.execute_reply.started": "2024-03-26T10:57:18.628625Z",
          "shell.execute_reply": "2024-03-26T10:58:14.628085Z"
        },
        "trusted": true,
        "id": "_sJFJjCNRNBz"
      },
      "execution_count": null,
      "outputs": []
    },
    {
      "cell_type": "code",
      "source": [],
      "metadata": {
        "execution": {
          "iopub.status.busy": "2024-03-26T11:01:44.710647Z",
          "iopub.execute_input": "2024-03-26T11:01:44.711074Z",
          "iopub.status.idle": "2024-03-26T11:01:44.735961Z",
          "shell.execute_reply.started": "2024-03-26T11:01:44.711039Z",
          "shell.execute_reply": "2024-03-26T11:01:44.734966Z"
        },
        "trusted": true,
        "id": "vSC7QMYDRNBz"
      },
      "execution_count": null,
      "outputs": []
    },
    {
      "cell_type": "code",
      "source": [],
      "metadata": {
        "trusted": true,
        "id": "RqCU9JvoRNBz"
      },
      "execution_count": null,
      "outputs": []
    },
    {
      "cell_type": "markdown",
      "source": [
        "# Step 9: Model Testing"
      ],
      "metadata": {
        "id": "VflAtJmsRNBz"
      }
    },
    {
      "cell_type": "code",
      "source": [],
      "metadata": {
        "execution": {
          "iopub.status.busy": "2024-03-26T11:02:09.022797Z",
          "iopub.execute_input": "2024-03-26T11:02:09.023288Z",
          "iopub.status.idle": "2024-03-26T11:02:37.436602Z",
          "shell.execute_reply.started": "2024-03-26T11:02:09.023250Z",
          "shell.execute_reply": "2024-03-26T11:02:37.435666Z"
        },
        "trusted": true,
        "id": "evcBws3PRNBz"
      },
      "execution_count": null,
      "outputs": []
    },
    {
      "cell_type": "code",
      "source": [],
      "metadata": {
        "execution": {
          "iopub.status.busy": "2024-03-26T11:02:37.438438Z",
          "iopub.execute_input": "2024-03-26T11:02:37.438746Z",
          "iopub.status.idle": "2024-03-26T11:02:44.812768Z",
          "shell.execute_reply.started": "2024-03-26T11:02:37.438717Z",
          "shell.execute_reply": "2024-03-26T11:02:44.811391Z"
        },
        "trusted": true,
        "id": "iYJm-BJ6RNB0"
      },
      "execution_count": null,
      "outputs": []
    },
    {
      "cell_type": "markdown",
      "source": [
        "#Step 10. Visualize the Model Architecture"
      ],
      "metadata": {
        "id": "XUBkwHjghWgm"
      }
    },
    {
      "cell_type": "code",
      "source": [],
      "metadata": {
        "id": "NPP6gIq_YV-T"
      },
      "execution_count": null,
      "outputs": []
    }
  ]
}