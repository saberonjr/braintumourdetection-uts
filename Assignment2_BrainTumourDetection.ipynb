{
  "cells": [
    {
      "cell_type": "markdown",
      "metadata": {
        "id": "view-in-github",
        "colab_type": "text"
      },
      "source": [
        "<a href=\"https://colab.research.google.com/github/uts-strykers/braintumourdetection/blob/STRYK-4-Data-Ingestion/Assignment2_BrainTumourDetection.ipynb\" target=\"_parent\"><img src=\"https://colab.research.google.com/assets/colab-badge.svg\" alt=\"Open In Colab\"/></a>"
      ]
    },
    {
      "cell_type": "markdown",
      "metadata": {
        "id": "shUZaEI9p7be"
      },
      "source": [
        "# STRYKERS TEAM: Brain Tumour Detection\n",
        "Members:\n",
        "Sotero Jr, Leon, Norah"
      ]
    },
    {
      "cell_type": "markdown",
      "metadata": {
        "id": "zw94RbqNdkdO"
      },
      "source": [
        "##1. Project Overview: Brain Tumour Detection\n",
        "Objective: Briefly describe the problem you're trying to solve.\n",
        "Data Source: Mention where the data comes from and its main features.\n",
        "Expected Outcome: Define what success looks like for this project.\n"
      ]
    },
    {
      "cell_type": "code",
      "execution_count": 1,
      "metadata": {
        "colab": {
          "base_uri": "https://localhost:8080/"
        },
        "id": "MggbeFh0dSqh",
        "outputId": "3ff5cb42-b276-4896-d0fe-85db14374637"
      },
      "outputs": [
        {
          "output_type": "stream",
          "name": "stdout",
          "text": [
            "Mounted at /content/drive\n"
          ]
        }
      ],
      "source": [
        "from google.colab import drive\n",
        "drive.mount('/content/drive')"
      ]
    },
    {
      "cell_type": "code",
      "source": [
        "%cd /content/drive/MyDrive/braintumourdetection"
      ],
      "metadata": {
        "colab": {
          "base_uri": "https://localhost:8080/"
        },
        "id": "vm6kPLMKqNms",
        "outputId": "bcf5bb73-816d-4638-9ac2-dc1b8a53ecb3"
      },
      "execution_count": 2,
      "outputs": [
        {
          "output_type": "stream",
          "name": "stdout",
          "text": [
            "/content/drive/MyDrive/braintumourdetection\n"
          ]
        }
      ]
    },
    {
      "cell_type": "code",
      "source": [
        "!git status"
      ],
      "metadata": {
        "colab": {
          "base_uri": "https://localhost:8080/"
        },
        "id": "GJfV45mRqPms",
        "outputId": "ef785547-3b63-49de-a4aa-1e7e67d6f67e"
      },
      "execution_count": 3,
      "outputs": [
        {
          "output_type": "stream",
          "name": "stdout",
          "text": [
            "Refresh index: 100% (7/7), done.\n",
            "On branch STRYK-4-Data-Ingestion\n",
            "Your branch is ahead of 'origin/STRYK-4-Data-Ingestion' by 1 commit.\n",
            "  (use \"git push\" to publish your local commits)\n",
            "\n",
            "Changes not staged for commit:\n",
            "  (use \"git add <file>...\" to update what will be committed)\n",
            "  (use \"git restore <file>...\" to discard changes in working directory)\n",
            "\t\u001b[31mmodified:   Assignment2_BrainTumourDetection.ipynb\u001b[m\n",
            "\n",
            "Untracked files:\n",
            "  (use \"git add <file>...\" to include in what will be committed)\n",
            "\t\u001b[31mcoco_eval.py\u001b[m\n",
            "\t\u001b[31mcoco_utils.py\u001b[m\n",
            "\t\u001b[31mengine.py\u001b[m\n",
            "\t\u001b[31mtransforms.py\u001b[m\n",
            "\t\u001b[31mutils.py\u001b[m\n",
            "\n",
            "no changes added to commit (use \"git add\" and/or \"git commit -a\")\n"
          ]
        }
      ]
    },
    {
      "cell_type": "markdown",
      "metadata": {
        "id": "y1LHJNfndtoN"
      },
      "source": [
        "#2. Import Libraries\n",
        "Import necessary Python libraries (e.g., NumPy, pandas, Matplotlib, scikit-learn)."
      ]
    },
    {
      "cell_type": "code",
      "execution_count": 12,
      "metadata": {
        "id": "FBuxKXavd1Iv"
      },
      "outputs": [],
      "source": [
        "import matplotlib as plt\n",
        "import pandas as pd\n",
        "import numpy as np\n",
        "import matplotlib.pyplot as plt\n",
        "import yaml\n",
        "import os"
      ]
    },
    {
      "cell_type": "code",
      "source": [
        "# download pycocotools\n",
        "!pip install git+https://github.com/alperiox/cocoapi.git#subdirectory=PythonAPI"
      ],
      "metadata": {
        "id": "LGlWx8XPrFDY",
        "outputId": "bcd3fa69-5eac-4dca-c4a5-002481ca8c95",
        "colab": {
          "base_uri": "https://localhost:8080/"
        }
      },
      "execution_count": 10,
      "outputs": [
        {
          "output_type": "stream",
          "name": "stdout",
          "text": [
            "Collecting git+https://github.com/alperiox/cocoapi.git#subdirectory=PythonAPI\n",
            "  Cloning https://github.com/alperiox/cocoapi.git to /tmp/pip-req-build-uuiblsyt\n",
            "  Running command git clone --filter=blob:none --quiet https://github.com/alperiox/cocoapi.git /tmp/pip-req-build-uuiblsyt\n",
            "  Resolved https://github.com/alperiox/cocoapi.git to commit 571a98e1ec2f16e8cd526767fd84e2c136309226\n",
            "  Preparing metadata (setup.py) ... \u001b[?25l\u001b[?25hdone\n",
            "Building wheels for collected packages: pycocotools\n",
            "  Building wheel for pycocotools (setup.py) ... \u001b[?25l\u001b[?25hdone\n",
            "  Created wheel for pycocotools: filename=pycocotools-2.0-cp310-cp310-linux_x86_64.whl size=375687 sha256=5c85525e42d3063a3fa8d1e693f0cddc182afe6403ab575f668f4c217c950807\n",
            "  Stored in directory: /tmp/pip-ephem-wheel-cache-rsa0w_6k/wheels/8e/fc/f3/24daf824c3929e0eace6e743b70e259b36547b802868a93f5e\n",
            "Successfully built pycocotools\n",
            "Installing collected packages: pycocotools\n",
            "  Attempting uninstall: pycocotools\n",
            "    Found existing installation: pycocotools 2.0.7\n",
            "    Uninstalling pycocotools-2.0.7:\n",
            "      Successfully uninstalled pycocotools-2.0.7\n",
            "Successfully installed pycocotools-2.0\n"
          ]
        }
      ]
    },
    {
      "cell_type": "code",
      "source": [
        "# get the scripts for training and COCO-related utility functions\n",
        "\n",
        "os.system(\"wget https://raw.githubusercontent.com/pytorch/vision/main/references/detection/engine.py\")\n",
        "os.system(\"wget https://raw.githubusercontent.com/pytorch/vision/main/references/detection/utils.py\")\n",
        "os.system(\"wget https://raw.githubusercontent.com/pytorch/vision/main/references/detection/coco_utils.py\")\n",
        "os.system(\"wget https://raw.githubusercontent.com/pytorch/vision/main/references/detection/coco_eval.py\")\n",
        "os.system(\"wget https://raw.githubusercontent.com/pytorch/vision/main/references/detection/transforms.py\")"
      ],
      "metadata": {
        "id": "ScI6rEvGhV-2",
        "outputId": "8c7f3c9f-d97f-4a09-8bfe-310ee97d380f",
        "colab": {
          "base_uri": "https://localhost:8080/"
        }
      },
      "execution_count": 13,
      "outputs": [
        {
          "output_type": "execute_result",
          "data": {
            "text/plain": [
              "0"
            ]
          },
          "metadata": {},
          "execution_count": 13
        }
      ]
    },
    {
      "cell_type": "markdown",
      "metadata": {
        "id": "gDBC98kod1Rt"
      },
      "source": [
        "#3. Data Collection\n",
        "Loading Data: Code to load your dataset from a file or web API.\n",
        "Initial Data Exploration: Display the first few rows of the dataset, list the features and their types."
      ]
    },
    {
      "cell_type": "code",
      "execution_count": 14,
      "metadata": {
        "id": "nEw4Jg0Td2U9"
      },
      "outputs": [],
      "source": [
        "dataset_path = '/content/drive/MyDrive/Brain Tumor Detection'"
      ]
    },
    {
      "cell_type": "code",
      "source": [
        "os.listdir(dataset_path)"
      ],
      "metadata": {
        "id": "DoiCPxtOhlh7",
        "outputId": "add6b369-54c4-490c-c7ff-7898e4197fc6",
        "colab": {
          "base_uri": "https://localhost:8080/"
        }
      },
      "execution_count": 15,
      "outputs": [
        {
          "output_type": "execute_result",
          "data": {
            "text/plain": [
              "['README.txt',\n",
              " 'data.yaml',\n",
              " 'test',\n",
              " 'train',\n",
              " 'valid',\n",
              " 'brain-tumor-detection-with-torchvision.ipynb']"
            ]
          },
          "metadata": {},
          "execution_count": 15
        }
      ]
    },
    {
      "cell_type": "code",
      "source": [
        "os.listdir(os.path.join(dataset_path, \"valid\", \"images\"))[:5]"
      ],
      "metadata": {
        "id": "ae_NepuQhpv-",
        "outputId": "ad047631-5cb6-4bbf-e1c9-ba429665b268",
        "colab": {
          "base_uri": "https://localhost:8080/"
        }
      },
      "execution_count": 16,
      "outputs": [
        {
          "output_type": "execute_result",
          "data": {
            "text/plain": [
              "['volume_269_slice_81_jpg.rf.eef98004083394ac813dea1546fc0635.jpg',\n",
              " 'volume_269_slice_82_jpg.rf.2d347a5ecfdaaade21960c27d2d73284.jpg',\n",
              " 'volume_26_slice_37_jpg.rf.4bf4c0a80500a515768496e4626e65c8.jpg',\n",
              " 'volume_26_slice_46_jpg.rf.5191e4171a9c3a4773d415d051c588d5.jpg',\n",
              " 'volume_26_slice_47_jpg.rf.d4d0ab1e6dfdec1d805b3ae935de1ca8.jpg']"
            ]
          },
          "metadata": {},
          "execution_count": 16
        }
      ]
    },
    {
      "cell_type": "code",
      "source": [
        "os.listdir(os.path.join(dataset_path, \"valid\", \"labels\"))[:5]"
      ],
      "metadata": {
        "id": "x3pJ9i04hu_l",
        "outputId": "2029098e-0954-4875-b979-9b361203cde9",
        "colab": {
          "base_uri": "https://localhost:8080/"
        }
      },
      "execution_count": 17,
      "outputs": [
        {
          "output_type": "execute_result",
          "data": {
            "text/plain": [
              "['volume_277_slice_105_jpg.rf.339254917a6acacc8cdb7308fa55c783.txt',\n",
              " 'volume_277_slice_109_jpg.rf.3c974773167a6b736ac39c8013045506.txt',\n",
              " 'volume_277_slice_49_jpg.rf.5d71a4d970218fae0449d388fcc52563.txt',\n",
              " 'volume_277_slice_51_jpg.rf.92056c2c10bbe33058f2d2573b1390f8.txt',\n",
              " 'volume_277_slice_68_jpg.rf.564682bc9b0edab5e50a711cc3b057bb.txt']"
            ]
          },
          "metadata": {},
          "execution_count": 17
        }
      ]
    },
    {
      "cell_type": "code",
      "source": [
        "with open(os.path.join(dataset_path, 'data.yaml'), \"r\") as stream:\n",
        "    data = yaml.safe_load(stream)\n",
        "\n",
        "data"
      ],
      "metadata": {
        "id": "UUU7In-mhz3i",
        "outputId": "2f080564-dc97-4c99-aeac-f996807aa3fa",
        "colab": {
          "base_uri": "https://localhost:8080/"
        }
      },
      "execution_count": 18,
      "outputs": [
        {
          "output_type": "execute_result",
          "data": {
            "text/plain": [
              "{'train': '../train/images',\n",
              " 'val': '../valid/images',\n",
              " 'test': '../test/images',\n",
              " 'nc': 3,\n",
              " 'names': ['label0', 'label1', 'label2'],\n",
              " 'roboflow': {'workspace': 'yousef-ghanem-jzj4y',\n",
              "  'project': 'brain-tumor-detection-fpf1f',\n",
              "  'version': 2,\n",
              "  'license': 'Public Domain',\n",
              "  'url': 'https://universe.roboflow.com/yousef-ghanem-jzj4y/brain-tumor-detection-fpf1f/dataset/2'}}"
            ]
          },
          "metadata": {},
          "execution_count": 18
        }
      ]
    },
    {
      "cell_type": "code",
      "source": [
        "!cat /content/drive/MyDrive/\"Brain Tumor Detection\"/valid/labels/volume_114_slice_79_jpg.rf.fe0c58a00e797af3cbf938f1002b7e2e.txt"
      ],
      "metadata": {
        "id": "u1RHWw0oh7LV",
        "outputId": "4092d6ed-8bf5-44c3-b9b9-f0b684f04527",
        "colab": {
          "base_uri": "https://localhost:8080/"
        }
      },
      "execution_count": 19,
      "outputs": [
        {
          "output_type": "stream",
          "name": "stdout",
          "text": [
            "0 0.3057553956834532 0.5265151515151515 0.30935251798561153 0.25\n",
            "1 0.24820143884892087 0.553030303030303 0.2949640287769784 0.3484848484848485\n",
            "2 0.3057553956834532 0.5303030303030303 0.35251798561151076 0.2727272727272727"
          ]
        }
      ]
    },
    {
      "cell_type": "markdown",
      "metadata": {
        "id": "F74eHiBzd2eD"
      },
      "source": [
        "#4. Data Preprocessing\n",
        "Cleaning: Handle missing values, remove duplicates, and deal with outliers.\n",
        "Feature Engineering: Create new features from the existing data if necessary.\n",
        "Feature Selection: Select relevant features for the model.\n",
        "Data Transformation: Normalize or standardize data, encode categorical variables."
      ]
    },
    {
      "cell_type": "code",
      "execution_count": null,
      "metadata": {
        "id": "ASjr4zbEd5oL"
      },
      "outputs": [],
      "source": []
    },
    {
      "cell_type": "markdown",
      "metadata": {
        "id": "c3Ti2-Jod5wX"
      },
      "source": [
        "#5. Exploratory Data Analysis (EDA)\n",
        "Statistical Summary: Describe the data statistically.\n",
        "Visualization: Use plots (histograms, box plots, scatter plots) to visualize data and relationships."
      ]
    },
    {
      "cell_type": "code",
      "execution_count": null,
      "metadata": {
        "id": "qyG2vDf4d80G"
      },
      "outputs": [],
      "source": []
    },
    {
      "cell_type": "markdown",
      "metadata": {
        "id": "024YbWB_d89L"
      },
      "source": [
        "#6. Data Splitting\n",
        "Split the data into training, validation, and test sets."
      ]
    },
    {
      "cell_type": "markdown",
      "metadata": {
        "id": "kbgJ7uvdeFtZ"
      },
      "source": [
        "\n",
        "#7. Model Selection\n",
        "Choose appropriate machine learning models for the problem.\n",
        "Briefly describe each model's choice and its assumptions.\n"
      ]
    },
    {
      "cell_type": "code",
      "execution_count": null,
      "metadata": {
        "id": "wIbRyJAoeJ4d"
      },
      "outputs": [],
      "source": []
    },
    {
      "cell_type": "markdown",
      "metadata": {
        "id": "7YOnUfTreKHN"
      },
      "source": [
        "#8. Model Training\n",
        "Training Models: Train models on the training dataset.\n",
        "Hyperparameter Tuning: Use techniques like grid search or random search to find the best parameters.\n"
      ]
    },
    {
      "cell_type": "code",
      "execution_count": null,
      "metadata": {
        "id": "zLqqPqFieMma"
      },
      "outputs": [],
      "source": []
    },
    {
      "cell_type": "markdown",
      "source": [
        "#9. Model Testing"
      ],
      "metadata": {
        "id": "7mpq1WS5q09S"
      }
    },
    {
      "cell_type": "code",
      "source": [
        "# filter the predictions with the threshold of 0.4\n",
        "pred_mask = (pred['scores'] >= .4).cpu()\n",
        "# filter more by using non-maximum suppression with .6 as the threshold\n",
        "nms_idx = nms(pred['boxes'], pred['scores'], .6).cpu()\n",
        "nms_mask = torch.zeros_like(pred_mask)\n",
        "nms_mask[nms_idx] = 1\n",
        "\n",
        "mask = pred_mask * nms_mask # apply \"AND\" gate by multiplying the two\n",
        "\n",
        "indices = torch.arange(0, mask.size(0), 1)[mask]\n",
        "\n",
        "final_preds = {\n",
        "    \"boxes\": pred['boxes'][indices, :],\n",
        "    \"labels\": pred['labels'][indices],\n",
        "    \"scores\": pred['scores'][indices]\n",
        "}\n",
        "\n",
        "\n",
        "image = (255.0 * (image - image.min()) / (image.max() - image.min())).to(torch.uint8)\n",
        "pred_labels = [f\"label {label}: {score:.3f}\" for label, score in zip(final_preds[\"labels\"], final_preds[\"scores\"])]\n",
        "pred_boxes = final_preds[\"boxes\"].long()\n",
        "colors = [\"white\"]*len(pred_labels)\n",
        "\n",
        "# resize the image and bounding boxes\n",
        "pred_boxes = F.resize_bounding_boxes(pred_boxes, canvas_size=F.get_size(image), size=(132*5, 139*5))\n",
        "image = F.resize(image, (132*5, 139*5), antialias=True)\n",
        "\n",
        "print(image.shape, pred_boxes[1])\n",
        "\n",
        "image_with_boxes = draw_bounding_boxes(image=image, boxes=pred_boxes[0], labels=pred_labels, colors=colors)\n",
        "\n",
        "Image.fromarray(image_with_boxes.permute(1,2,0).numpy())"
      ],
      "metadata": {
        "id": "cJTdjnSqq5cP"
      },
      "execution_count": null,
      "outputs": []
    },
    {
      "cell_type": "markdown",
      "metadata": {
        "id": "AE2GYaMjeMu4"
      },
      "source": [
        "#9. Model Evaluation\n",
        "Validation Performance: Evaluate model performance on the validation set using appropriate metrics (e.g., accuracy, F1 score, ROC AUC).\n",
        "Cross-Validation: If necessary, perform cross-validation and discuss the results.\n"
      ]
    },
    {
      "cell_type": "markdown",
      "metadata": {
        "id": "4eU4_JoweQrp"
      },
      "source": [
        "#10. Model Interpretation\n",
        "Discuss model predictions and what they mean in the context of the problem.\n",
        "Use interpretability tools or techniques if applicable (e.g., SHAP values).\n"
      ]
    },
    {
      "cell_type": "code",
      "execution_count": null,
      "metadata": {
        "id": "FHq6ggrOeTm8"
      },
      "outputs": [],
      "source": []
    },
    {
      "cell_type": "markdown",
      "metadata": {
        "id": "5MkZB5NIeTwr"
      },
      "source": [
        "#11. Model Deployment (Optional)\n",
        "Discuss how the model could be deployed in a real-world application.\n",
        "Mention any potential challenges and how they could be addressed.\n"
      ]
    },
    {
      "cell_type": "code",
      "execution_count": null,
      "metadata": {
        "id": "P5HKwL6leWC5"
      },
      "outputs": [],
      "source": []
    },
    {
      "cell_type": "markdown",
      "metadata": {
        "id": "iSR15_preWMd"
      },
      "source": [
        "#12. Conclusions\n",
        "Summarize the key findings.\n",
        "Discuss any limitations of the current approach and suggest improvements.\n"
      ]
    },
    {
      "cell_type": "code",
      "execution_count": null,
      "metadata": {
        "id": "KzGtx86bedbw"
      },
      "outputs": [],
      "source": []
    },
    {
      "cell_type": "markdown",
      "metadata": {
        "id": "iB78dzTUedkc"
      },
      "source": [
        "#13. References\n",
        "Cite any references or resources used throughout the project.\n"
      ]
    },
    {
      "cell_type": "code",
      "execution_count": null,
      "metadata": {
        "id": "-lgEdNr2efqx"
      },
      "outputs": [],
      "source": []
    },
    {
      "cell_type": "markdown",
      "metadata": {
        "id": "susrjfT4efz4"
      },
      "source": [
        "#14. Appendix\n",
        "Include any additional code or analysis that is supplementary to the main project.\n",
        "This outline serves as a general guide for structuring your machine learning project in a Jupyter Notebook. Depending on the specifics of your project, some sections may need to be modified, expanded, or omitted."
      ]
    },
    {
      "cell_type": "code",
      "source": [
        "!git status"
      ],
      "metadata": {
        "colab": {
          "base_uri": "https://localhost:8080/"
        },
        "id": "QxL61Wokq-HN",
        "outputId": "165908e9-accf-4e91-84d1-a97d869e8059"
      },
      "execution_count": 4,
      "outputs": [
        {
          "output_type": "stream",
          "name": "stdout",
          "text": [
            "On branch STRYK-4-Data-Ingestion\n",
            "Your branch is ahead of 'origin/STRYK-4-Data-Ingestion' by 1 commit.\n",
            "  (use \"git push\" to publish your local commits)\n",
            "\n",
            "Changes not staged for commit:\n",
            "  (use \"git add <file>...\" to update what will be committed)\n",
            "  (use \"git restore <file>...\" to discard changes in working directory)\n",
            "\t\u001b[31mmodified:   Assignment2_BrainTumourDetection.ipynb\u001b[m\n",
            "\n",
            "Untracked files:\n",
            "  (use \"git add <file>...\" to include in what will be committed)\n",
            "\t\u001b[31mcoco_eval.py\u001b[m\n",
            "\t\u001b[31mcoco_utils.py\u001b[m\n",
            "\t\u001b[31mengine.py\u001b[m\n",
            "\t\u001b[31mtransforms.py\u001b[m\n",
            "\t\u001b[31mutils.py\u001b[m\n",
            "\n",
            "no changes added to commit (use \"git add\" and/or \"git commit -a\")\n"
          ]
        }
      ]
    },
    {
      "cell_type": "code",
      "source": [
        "!git add Assignment2_BrainTumourDetection.ipynb"
      ],
      "metadata": {
        "id": "bGkIaOfXrSZh"
      },
      "execution_count": 6,
      "outputs": []
    },
    {
      "cell_type": "code",
      "source": [
        "!git branch"
      ],
      "metadata": {
        "colab": {
          "base_uri": "https://localhost:8080/"
        },
        "id": "0ScTwUdbshEo",
        "outputId": "072cbad2-1c9f-4f12-ed0d-ce6faa4a1dd5"
      },
      "execution_count": 7,
      "outputs": [
        {
          "output_type": "stream",
          "name": "stdout",
          "text": [
            "* \u001b[32mSTRYK-4-Data-Ingestion\u001b[m\n",
            "  main\u001b[m\n"
          ]
        }
      ]
    },
    {
      "cell_type": "code",
      "source": [
        "!git config --global user.email \"leonambrose.lusbo@student.uts.edu.au\"\n",
        "!git config --global user.name \"Leon384\""
      ],
      "metadata": {
        "id": "Vx8hmoWOrnrE"
      },
      "execution_count": 21,
      "outputs": []
    },
    {
      "cell_type": "code",
      "source": [
        "!git commit -m \"STRYK-4 Added Data Ingestion\""
      ],
      "metadata": {
        "colab": {
          "base_uri": "https://localhost:8080/"
        },
        "id": "c3aq2XybrYyd",
        "outputId": "f723742d-d806-40b9-f0ef-5366ceda798c"
      },
      "execution_count": 23,
      "outputs": [
        {
          "output_type": "stream",
          "name": "stdout",
          "text": [
            "[STRYK-4-Data-Ingestion 242e8b8e] STRYK-4 Added Data Ingestion\n",
            " 1 file changed, 1 insertion(+), 1 deletion(-)\n"
          ]
        }
      ]
    },
    {
      "cell_type": "code",
      "source": [
        "!ls /root/.ssh/id_rsa.pub"
      ],
      "metadata": {
        "colab": {
          "base_uri": "https://localhost:8080/"
        },
        "id": "ts0Nb9ILs91s",
        "outputId": "6b6d5442-7e2d-43eb-d0ee-62f93bb0d9a0"
      },
      "execution_count": 9,
      "outputs": [
        {
          "output_type": "stream",
          "name": "stdout",
          "text": [
            "ls: cannot access '/root/.ssh/id_rsa.pub': No such file or directory\n"
          ]
        }
      ]
    },
    {
      "cell_type": "code",
      "source": [
        "!ssh -T git@github.com"
      ],
      "metadata": {
        "colab": {
          "base_uri": "https://localhost:8080/"
        },
        "id": "GfvHf5UKsrI3",
        "outputId": "f8cb5dd2-1c2f-4eb3-d4b0-b49d056c0b86"
      },
      "execution_count": null,
      "outputs": [
        {
          "output_type": "stream",
          "name": "stdout",
          "text": [
            "Host key verification failed.\r\n"
          ]
        }
      ]
    },
    {
      "cell_type": "code",
      "source": [
        "!git push -u origin STRYK-4-Data-Ingestion"
      ],
      "metadata": {
        "colab": {
          "base_uri": "https://localhost:8080/"
        },
        "id": "7QmO0MAZr1lg",
        "outputId": "d1e9b0db-ea81-48a1-84cc-6078af3cb32d"
      },
      "execution_count": 22,
      "outputs": [
        {
          "output_type": "stream",
          "name": "stdout",
          "text": [
            "Host key verification failed.\r\n",
            "fatal: Could not read from remote repository.\n",
            "\n",
            "Please make sure you have the correct access rights\n",
            "and the repository exists.\n"
          ]
        }
      ]
    },
    {
      "cell_type": "code",
      "source": [],
      "metadata": {
        "id": "4vKuHkaiiNJ9"
      },
      "execution_count": null,
      "outputs": []
    }
  ],
  "metadata": {
    "colab": {
      "provenance": [],
      "include_colab_link": true
    },
    "kernelspec": {
      "display_name": "Python 3",
      "name": "python3"
    },
    "language_info": {
      "name": "python"
    }
  },
  "nbformat": 4,
  "nbformat_minor": 0
}