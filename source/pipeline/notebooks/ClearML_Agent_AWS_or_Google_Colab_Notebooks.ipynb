{
  "cells": [
    {
      "cell_type": "markdown",
      "metadata": {
        "id": "mC3A4rio6Y--"
      },
      "source": [
        "# AWS/Google Colab to Launch ClearML Remote Agent\n"
      ]
    },
    {
      "cell_type": "markdown",
      "metadata": {
        "id": "EPYjmFLy1zuC"
      },
      "source": [
        "## Step 1: Install all necessary packages"
      ]
    },
    {
      "cell_type": "code",
      "execution_count": null,
      "metadata": {
        "colab": {
          "base_uri": "https://localhost:8080/"
        },
        "id": "DwFC3fL8JAP3",
        "outputId": "f83023c8-6e4b-4657-f689-e36682b75aab"
      },
      "outputs": [
        {
          "name": "stdout",
          "output_type": "stream",
          "text": [
            "Collecting clearml\n",
            "  Downloading clearml-1.14.4-py2.py3-none-any.whl (1.1 MB)\n",
            "\u001b[2K     \u001b[90m━━━━━━━━━━━━━━━━━━━━━━━━━━━━━━━━━━━━━━━━\u001b[0m \u001b[32m1.1/1.1 MB\u001b[0m \u001b[31m7.7 MB/s\u001b[0m eta \u001b[36m0:00:00\u001b[0m\n",
            "\u001b[?25hRequirement already satisfied: attrs>=18.0 in /usr/local/lib/python3.10/dist-packages (from clearml) (23.2.0)\n",
            "Collecting furl>=2.0.0 (from clearml)\n",
            "  Downloading furl-2.1.3-py2.py3-none-any.whl (20 kB)\n",
            "Requirement already satisfied: jsonschema>=2.6.0 in /usr/local/lib/python3.10/dist-packages (from clearml) (4.19.2)\n",
            "Requirement already satisfied: numpy>=1.10 in /usr/local/lib/python3.10/dist-packages (from clearml) (1.25.2)\n",
            "Collecting pathlib2>=2.3.0 (from clearml)\n",
            "  Downloading pathlib2-2.3.7.post1-py2.py3-none-any.whl (18 kB)\n",
            "Requirement already satisfied: Pillow>=4.1.1 in /usr/local/lib/python3.10/dist-packages (from clearml) (9.4.0)\n",
            "Requirement already satisfied: psutil>=3.4.2 in /usr/local/lib/python3.10/dist-packages (from clearml) (5.9.5)\n",
            "Requirement already satisfied: pyparsing>=2.0.3 in /usr/local/lib/python3.10/dist-packages (from clearml) (3.1.1)\n",
            "Requirement already satisfied: python-dateutil>=2.6.1 in /usr/local/lib/python3.10/dist-packages (from clearml) (2.8.2)\n",
            "Requirement already satisfied: PyYAML>=3.12 in /usr/local/lib/python3.10/dist-packages (from clearml) (6.0.1)\n",
            "Requirement already satisfied: requests>=2.20.0 in /usr/local/lib/python3.10/dist-packages (from clearml) (2.31.0)\n",
            "Requirement already satisfied: six>=1.13.0 in /usr/local/lib/python3.10/dist-packages (from clearml) (1.16.0)\n",
            "Requirement already satisfied: urllib3>=1.21.1 in /usr/local/lib/python3.10/dist-packages (from clearml) (2.0.7)\n",
            "Collecting pyjwt<2.9.0,>=2.4.0 (from clearml)\n",
            "  Downloading PyJWT-2.8.0-py3-none-any.whl (22 kB)\n",
            "Requirement already satisfied: referencing<0.40 in /usr/local/lib/python3.10/dist-packages (from clearml) (0.33.0)\n",
            "Collecting orderedmultidict>=1.0.1 (from furl>=2.0.0->clearml)\n",
            "  Downloading orderedmultidict-1.0.1-py2.py3-none-any.whl (11 kB)\n",
            "Requirement already satisfied: jsonschema-specifications>=2023.03.6 in /usr/local/lib/python3.10/dist-packages (from jsonschema>=2.6.0->clearml) (2023.12.1)\n",
            "Requirement already satisfied: rpds-py>=0.7.1 in /usr/local/lib/python3.10/dist-packages (from jsonschema>=2.6.0->clearml) (0.18.0)\n",
            "Requirement already satisfied: charset-normalizer<4,>=2 in /usr/local/lib/python3.10/dist-packages (from requests>=2.20.0->clearml) (3.3.2)\n",
            "Requirement already satisfied: idna<4,>=2.5 in /usr/local/lib/python3.10/dist-packages (from requests>=2.20.0->clearml) (3.6)\n",
            "Requirement already satisfied: certifi>=2017.4.17 in /usr/local/lib/python3.10/dist-packages (from requests>=2.20.0->clearml) (2024.2.2)\n",
            "Installing collected packages: pyjwt, pathlib2, orderedmultidict, furl, clearml\n",
            "  Attempting uninstall: pyjwt\n",
            "    Found existing installation: PyJWT 2.3.0\n",
            "    Uninstalling PyJWT-2.3.0:\n",
            "      Successfully uninstalled PyJWT-2.3.0\n",
            "Successfully installed clearml-1.14.4 furl-2.1.3 orderedmultidict-1.0.1 pathlib2-2.3.7.post1 pyjwt-2.8.0\n",
            "Collecting clearml-agent\n",
            "  Downloading clearml_agent-1.7.0-py3-none-any.whl (420 kB)\n",
            "\u001b[2K     \u001b[90m━━━━━━━━━━━━━━━━━━━━━━━━━━━━━━━━━━━━━━━━\u001b[0m \u001b[32m420.3/420.3 kB\u001b[0m \u001b[31m5.7 MB/s\u001b[0m eta \u001b[36m0:00:00\u001b[0m\n",
            "\u001b[?25hCollecting attrs<23.0.0,>=18.0 (from clearml-agent)\n",
            "  Downloading attrs-22.2.0-py3-none-any.whl (60 kB)\n",
            "\u001b[2K     \u001b[90m━━━━━━━━━━━━━━━━━━━━━━━━━━━━━━━━━━━━━━━━\u001b[0m \u001b[32m60.0/60.0 kB\u001b[0m \u001b[31m7.5 MB/s\u001b[0m eta \u001b[36m0:00:00\u001b[0m\n",
            "\u001b[?25hRequirement already satisfied: furl<2.2.0,>=2.0.0 in /usr/local/lib/python3.10/dist-packages (from clearml-agent) (2.1.3)\n",
            "Requirement already satisfied: jsonschema<5.0.0,>=2.6.0 in /usr/local/lib/python3.10/dist-packages (from clearml-agent) (4.19.2)\n",
            "Requirement already satisfied: pathlib2<2.4.0,>=2.3.0 in /usr/local/lib/python3.10/dist-packages (from clearml-agent) (2.3.7.post1)\n",
            "Requirement already satisfied: psutil<5.10.0,>=3.4.2 in /usr/local/lib/python3.10/dist-packages (from clearml-agent) (5.9.5)\n",
            "Collecting pyparsing<3.1.0,>=2.0.3 (from clearml-agent)\n",
            "  Downloading pyparsing-3.0.9-py3-none-any.whl (98 kB)\n",
            "\u001b[2K     \u001b[90m━━━━━━━━━━━━━━━━━━━━━━━━━━━━━━━━━━━━━━━━\u001b[0m \u001b[32m98.3/98.3 kB\u001b[0m \u001b[31m10.4 MB/s\u001b[0m eta \u001b[36m0:00:00\u001b[0m\n",
            "\u001b[?25hRequirement already satisfied: python-dateutil<2.9.0,>=2.4.2 in /usr/local/lib/python3.10/dist-packages (from clearml-agent) (2.8.2)\n",
            "Collecting pyjwt<2.7.0,>=2.4.0 (from clearml-agent)\n",
            "  Downloading PyJWT-2.6.0-py3-none-any.whl (20 kB)\n",
            "Requirement already satisfied: PyYAML<6.1,>=3.12 in /usr/local/lib/python3.10/dist-packages (from clearml-agent) (6.0.1)\n",
            "Requirement already satisfied: requests<=2.31.0,>=2.20.0 in /usr/local/lib/python3.10/dist-packages (from clearml-agent) (2.31.0)\n",
            "Requirement already satisfied: six<1.17.0,>=1.13.0 in /usr/local/lib/python3.10/dist-packages (from clearml-agent) (1.16.0)\n",
            "Collecting urllib3<1.27.0,>=1.21.1 (from clearml-agent)\n",
            "  Downloading urllib3-1.26.18-py2.py3-none-any.whl (143 kB)\n",
            "\u001b[2K     \u001b[90m━━━━━━━━━━━━━━━━━━━━━━━━━━━━━━━━━━━━━━━━\u001b[0m \u001b[32m143.8/143.8 kB\u001b[0m \u001b[31m9.6 MB/s\u001b[0m eta \u001b[36m0:00:00\u001b[0m\n",
            "\u001b[?25hCollecting virtualenv<21,>=16 (from clearml-agent)\n",
            "  Downloading virtualenv-20.25.1-py3-none-any.whl (3.8 MB)\n",
            "\u001b[2K     \u001b[90m━━━━━━━━━━━━━━━━━━━━━━━━━━━━━━━━━━━━━━━━\u001b[0m \u001b[32m3.8/3.8 MB\u001b[0m \u001b[31m14.7 MB/s\u001b[0m eta \u001b[36m0:00:00\u001b[0m\n",
            "\u001b[?25hRequirement already satisfied: orderedmultidict>=1.0.1 in /usr/local/lib/python3.10/dist-packages (from furl<2.2.0,>=2.0.0->clearml-agent) (1.0.1)\n",
            "Requirement already satisfied: jsonschema-specifications>=2023.03.6 in /usr/local/lib/python3.10/dist-packages (from jsonschema<5.0.0,>=2.6.0->clearml-agent) (2023.12.1)\n",
            "Requirement already satisfied: referencing>=0.28.4 in /usr/local/lib/python3.10/dist-packages (from jsonschema<5.0.0,>=2.6.0->clearml-agent) (0.33.0)\n",
            "Requirement already satisfied: rpds-py>=0.7.1 in /usr/local/lib/python3.10/dist-packages (from jsonschema<5.0.0,>=2.6.0->clearml-agent) (0.18.0)\n",
            "Requirement already satisfied: charset-normalizer<4,>=2 in /usr/local/lib/python3.10/dist-packages (from requests<=2.31.0,>=2.20.0->clearml-agent) (3.3.2)\n",
            "Requirement already satisfied: idna<4,>=2.5 in /usr/local/lib/python3.10/dist-packages (from requests<=2.31.0,>=2.20.0->clearml-agent) (3.6)\n",
            "Requirement already satisfied: certifi>=2017.4.17 in /usr/local/lib/python3.10/dist-packages (from requests<=2.31.0,>=2.20.0->clearml-agent) (2024.2.2)\n",
            "Collecting distlib<1,>=0.3.7 (from virtualenv<21,>=16->clearml-agent)\n",
            "  Downloading distlib-0.3.8-py2.py3-none-any.whl (468 kB)\n",
            "\u001b[2K     \u001b[90m━━━━━━━━━━━━━━━━━━━━━━━━━━━━━━━━━━━━━━━━\u001b[0m \u001b[32m468.9/468.9 kB\u001b[0m \u001b[31m17.9 MB/s\u001b[0m eta \u001b[36m0:00:00\u001b[0m\n",
            "\u001b[?25hRequirement already satisfied: filelock<4,>=3.12.2 in /usr/local/lib/python3.10/dist-packages (from virtualenv<21,>=16->clearml-agent) (3.13.1)\n",
            "Requirement already satisfied: platformdirs<5,>=3.9.1 in /usr/local/lib/python3.10/dist-packages (from virtualenv<21,>=16->clearml-agent) (4.2.0)\n",
            "Installing collected packages: distlib, virtualenv, urllib3, pyparsing, pyjwt, attrs, clearml-agent\n",
            "  Attempting uninstall: urllib3\n",
            "    Found existing installation: urllib3 2.0.7\n",
            "    Uninstalling urllib3-2.0.7:\n",
            "      Successfully uninstalled urllib3-2.0.7\n",
            "  Attempting uninstall: pyparsing\n",
            "    Found existing installation: pyparsing 3.1.1\n",
            "    Uninstalling pyparsing-3.1.1:\n",
            "      Successfully uninstalled pyparsing-3.1.1\n",
            "  Attempting uninstall: pyjwt\n",
            "    Found existing installation: PyJWT 2.8.0\n",
            "    Uninstalling PyJWT-2.8.0:\n",
            "      Successfully uninstalled PyJWT-2.8.0\n",
            "  Attempting uninstall: attrs\n",
            "    Found existing installation: attrs 23.2.0\n",
            "    Uninstalling attrs-23.2.0:\n",
            "      Successfully uninstalled attrs-23.2.0\n",
            "Successfully installed attrs-22.2.0 clearml-agent-1.7.0 distlib-0.3.8 pyjwt-2.6.0 pyparsing-3.0.9 urllib3-1.26.18 virtualenv-20.25.1\n"
          ]
        }
      ],
      "source": [
        "# Install the clearml, and clearml-agent\n",
        "!pip install clearml\n",
        "!pip install clearml-agent"
      ]
    },
    {
      "cell_type": "markdown",
      "metadata": {
        "id": "gb41kM8i1-7T"
      },
      "source": [
        "## Step 2: Export this environment variable\n",
        "\n",
        "This environment variable makes Matplotlib work in headless mode, so it won't output graphs to the screen"
      ]
    },
    {
      "cell_type": "code",
      "execution_count": null,
      "metadata": {
        "id": "3-Bm4811VMLK"
      },
      "outputs": [],
      "source": [
        "! export MPLBACKEND=TkAg"
      ]
    },
    {
      "cell_type": "markdown",
      "metadata": {
        "id": "wp0ef8J5f-Uz"
      },
      "source": [
        "### Step 3 (OPTIONAL): Enter your github credentials (only for private repositories)\n",
        "In order for the agent to pull your code, it needs access to your repositories. If these are private, you'll have to supply the agent with github credentials to log in. Github/Bitbucket will no longer let you log in using username/password combinations. Instead, you have to use a personal token, read more about it [here for Github](https://docs.github.com/en/authentication/keeping-your-account-and-data-secure/creating-a-personal-access-token) and [here for Bitbucket](https://support.atlassian.com/bitbucket-cloud/docs/app-passwords/)\n",
        "\n",
        "We can let the agent know which credentials to use by setting the following env variables"
      ]
    },
    {
      "cell_type": "code",
      "execution_count": 1,
      "metadata": {
        "id": "UEgt4IAEf-U0"
      },
      "outputs": [],
      "source": [
        "import os\n",
        "os.environ[\"CLEARML_AGENT_GIT_USER\"] = \"UserName\"\n",
        "os.environ[\"CLEARML_AGENT_GIT_PASS\"] = \"PersonalAccessToken\""
      ]
    },
    {
      "cell_type": "markdown",
      "metadata": {
        "id": "chuUzBaU2NyB"
      },
      "source": [
        "## Step 4: Create new credentials:\n",
        "1. Go to your [ClearML WebApp **Settings**](https://app.clear.ml/settings/workspace-configuration).\n",
        "1. Under the **WORKSPACES** section, go to **App Credentials**, and click **+ Create new credentials**\n",
        "1. Copy your credentials"
      ]
    },
    {
      "cell_type": "markdown",
      "metadata": {
        "id": "1Kloxwfj0Vnq"
      },
      "source": [
        "## Step 5: Set your ClearML Credentials\n",
        "\n",
        "Insert the credentials you created in Step 4.\n",
        "\n",
        "If you aren't using the ClearML hosted server, make sure to modify the server variables."
      ]
    },
    {
      "cell_type": "code",
      "execution_count": null,
      "metadata": {
        "id": "YBPdmP4sJHnQ"
      },
      "outputs": [],
      "source": [
        "#Insert your own Credentials\n",
        "\n",
        "from clearml import Task\n",
        "\n",
        "web_server = 'https://app.clear.ml'\n",
        "api_server = 'https://api.clear.ml'\n",
        "files_server = 'https://files.clear.ml'\n",
        "access_key = 'access_key'\n",
        "secret_key = 'secret_key'\n",
        "\n",
        "Task.set_credentials(web_host=web_server,\n",
        "                     api_host=api_server,\n",
        "                     files_host=files_server,\n",
        "                     key=access_key,\n",
        "                     secret=secret_key\n",
        "                     )\n",
        "\n"
      ]
    },
    {
      "cell_type": "markdown",
      "metadata": {
        "id": "unVOg5WV3VQp"
      },
      "source": [
        "## Step 6: Create new queue:\n",
        "1. Go to your [ClearML WebApp **Orchestration>Queues**](https://app.clear.ml/workers-and-queues/queues).\n",
        "1. Under the **Orchestration** section, go to **queues**, and click **+ New Queue** (you will find this button on the top right side of the page)\n",
        "1. Enter the queue name in `lower case` and remember it"
      ]
    },
    {
      "cell_type": "markdown",
      "metadata": {
        "id": "Er3HUBty4m7i"
      },
      "source": [
        "## Step 7: Run clearml-agent\n",
        "While running, set the queue by typing its name."
      ]
    },
    {
      "cell_type": "code",
      "execution_count": null,
      "metadata": {
        "colab": {
          "base_uri": "https://localhost:8080/"
        },
        "id": "QcczeU7OJ9G-",
        "outputId": "977d087b-4b8c-4777-b1d6-e25f6f9c65b7"
      },
      "outputs": [
        {
          "name": "stdout",
          "output_type": "stream",
          "text": [
            "Using environment access key CLEARML_API_ACCESS_KEY=69RN3MRUQ34XLNX5CA27\n",
            "Using environment secret key CLEARML_API_SECRET_KEY=********\n",
            "Current configuration (clearml_agent v1.7.0, location: None):\n",
            "----------------------\n",
            "agent.worker_id = \n",
            "agent.worker_name = 6b05c139399e\n",
            "agent.force_git_ssh_protocol = false\n",
            "agent.python_binary = \n",
            "agent.package_manager.type = pip\n",
            "agent.package_manager.pip_version.0 = <20.2 ; python_version < '3.10'\n",
            "agent.package_manager.pip_version.1 = <22.3 ; python_version >\\= '3.10'\n",
            "agent.package_manager.system_site_packages = false\n",
            "agent.package_manager.force_upgrade = false\n",
            "agent.package_manager.conda_channels.0 = pytorch\n",
            "agent.package_manager.conda_channels.1 = conda-forge\n",
            "agent.package_manager.conda_channels.2 = defaults\n",
            "agent.package_manager.priority_optional_packages.0 = pygobject\n",
            "agent.package_manager.torch_nightly = false\n",
            "agent.package_manager.poetry_files_from_repo_working_dir = false\n",
            "agent.venvs_dir = /root/.clearml/venvs-builds\n",
            "agent.venvs_cache.max_entries = 10\n",
            "agent.venvs_cache.free_space_threshold_gb = 2.0\n",
            "agent.venvs_cache.path = ~/.clearml/venvs-cache\n",
            "agent.vcs_cache.enabled = true\n",
            "agent.vcs_cache.path = /root/.clearml/vcs-cache\n",
            "agent.venv_update.enabled = false\n",
            "agent.pip_download_cache.enabled = true\n",
            "agent.pip_download_cache.path = /root/.clearml/pip-download-cache\n",
            "agent.translate_ssh = true\n",
            "agent.reload_config = false\n",
            "agent.docker_pip_cache = /root/.clearml/pip-cache\n",
            "agent.docker_apt_cache = /root/.clearml/apt-cache\n",
            "agent.docker_force_pull = false\n",
            "agent.default_docker.image = nvidia/cuda:11.0.3-cudnn8-runtime-ubuntu20.04\n",
            "agent.enable_task_env = false\n",
            "agent.hide_docker_command_env_vars.enabled = true\n",
            "agent.hide_docker_command_env_vars.parse_embedded_urls = true\n",
            "agent.abort_callback_max_timeout = 1800\n",
            "agent.docker_internal_mounts.sdk_cache = /clearml_agent_cache\n",
            "agent.docker_internal_mounts.apt_cache = /var/cache/apt/archives\n",
            "agent.docker_internal_mounts.ssh_folder = ~/.ssh\n",
            "agent.docker_internal_mounts.ssh_ro_folder = /.ssh\n",
            "agent.docker_internal_mounts.pip_cache = /root/.cache/pip\n",
            "agent.docker_internal_mounts.poetry_cache = /root/.cache/pypoetry\n",
            "agent.docker_internal_mounts.vcs_cache = /root/.clearml/vcs-cache\n",
            "agent.docker_internal_mounts.venv_build = ~/.clearml/venvs-builds\n",
            "agent.docker_internal_mounts.pip_download = /root/.clearml/pip-download-cache\n",
            "agent.apply_environment = true\n",
            "agent.apply_files = true\n",
            "agent.custom_build_script = \n",
            "agent.disable_task_docker_override = false\n",
            "agent.default_python = 3.10\n",
            "agent.cuda_version = 122\n",
            "agent.cudnn_version = 0\n",
            "sdk.storage.cache.default_base_dir = ~/.clearml/cache\n",
            "sdk.storage.cache.size.min_free_bytes = 10GB\n",
            "sdk.storage.direct_access.0.url = file://*\n",
            "sdk.metrics.file_history_size = 100\n",
            "sdk.metrics.matplotlib_untitled_history_size = 100\n",
            "sdk.metrics.images.format = JPEG\n",
            "sdk.metrics.images.quality = 87\n",
            "sdk.metrics.images.subsampling = 0\n",
            "sdk.metrics.tensorboard_single_series_per_graph = false\n",
            "sdk.network.metrics.file_upload_threads = 4\n",
            "sdk.network.metrics.file_upload_starvation_warning_sec = 120\n",
            "sdk.network.iteration.max_retries_on_server_error = 5\n",
            "sdk.network.iteration.retry_backoff_factor_sec = 10\n",
            "sdk.aws.s3.key = \n",
            "sdk.aws.s3.region = \n",
            "sdk.aws.boto3.pool_connections = 512\n",
            "sdk.aws.boto3.max_multipart_concurrency = 16\n",
            "sdk.log.null_log_propagate = false\n",
            "sdk.log.task_log_buffer_capacity = 66\n",
            "sdk.log.disable_urllib3_info = true\n",
            "sdk.development.task_reuse_time_window_in_hours = 72.0\n",
            "sdk.development.vcs_repo_detect_async = true\n",
            "sdk.development.store_uncommitted_code_diff = true\n",
            "sdk.development.support_stopping = true\n",
            "sdk.development.default_output_uri = \n",
            "sdk.development.force_analyze_entire_repo = false\n",
            "sdk.development.suppress_update_message = false\n",
            "sdk.development.detect_with_pip_freeze = false\n",
            "sdk.development.worker.report_period_sec = 2\n",
            "sdk.development.worker.ping_period_sec = 30\n",
            "sdk.development.worker.log_stdout = true\n",
            "sdk.development.worker.report_global_mem_used = false\n",
            "api.version = 1.5\n",
            "api.verify_certificate = true\n",
            "api.default_version = 1.5\n",
            "api.http.max_req_size = 15728640\n",
            "api.http.retries.total = 240\n",
            "api.http.retries.connect = 240\n",
            "api.http.retries.read = 240\n",
            "api.http.retries.redirect = 240\n",
            "api.http.retries.status = 240\n",
            "api.http.retries.backoff_factor = 1.0\n",
            "api.http.retries.backoff_max = 120.0\n",
            "api.http.wait_on_maintenance_forever = true\n",
            "api.http.pool_maxsize = 512\n",
            "api.http.pool_connections = 512\n",
            "api.api_server = https://api.clear.ml\n",
            "api.files_server = https://files.clear.ml\n",
            "api.web_server = https://app.clear.ml\n",
            "api.credentials.access_key = 69RN3MRUQ34XLNX5CA27\n",
            "\n",
            "Worker \"6b05c139399e:gpuall\" - Listening to queues:\n",
            "+----------------------------------+---------+-------+\n",
            "| id                               | name    | tags  |\n",
            "+----------------------------------+---------+-------+\n",
            "| 002bf7512ac94d71adf26e77c57b63b0 | gitarth |       |\n",
            "+----------------------------------+---------+-------+\n",
            "\n",
            "Running CLEARML-AGENT daemon in background mode, writing stdout/stderr to /tmp/.clearml_agent_daemon_outeltemthx.txt\n"
          ]
        }
      ],
      "source": [
        "!clearml-agent daemon --queue \"name_of_queue\" --detached"
      ]
    },
    {
      "cell_type": "markdown",
      "metadata": {
        "id": "y423MsWQ6eCk"
      },
      "source": [
        "## Step 8: Terminate the clearml-agent\n"
      ]
    },
    {
      "cell_type": "code",
      "execution_count": null,
      "metadata": {
        "id": "wtMk4LuN6dxB"
      },
      "outputs": [],
      "source": [
        "!clearml-agent daemon --queue \"name_of_queue\" --detached --stop"
      ]
    }
  ],
  "metadata": {
    "colab": {
      "provenance": []
    },
    "interpreter": {
      "hash": "d75e902da2bbfe9f41879fcf2334f5819447e02a7f656a079df344fef4e78809"
    },
    "kernelspec": {
      "display_name": "Python 3.7.12 64-bit ('.env')",
      "name": "python3"
    },
    "language_info": {
      "name": "python",
      "version": ""
    }
  },
  "nbformat": 4,
  "nbformat_minor": 0
}
